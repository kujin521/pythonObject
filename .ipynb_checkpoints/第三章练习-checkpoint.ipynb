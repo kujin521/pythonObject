{
 "cells": [
  {
   "cell_type": "code",
   "execution_count": 1,
   "metadata": {},
   "outputs": [
    {
     "name": "stdout",
     "output_type": "stream",
     "text": [
      "123abc\n",
      "Hello\n",
      "world\n",
      "------------------\n",
      "Hello\\nworld\n",
      "True\n"
     ]
    }
   ],
   "source": [
    "print('123'+'abc') #字符串连接\n",
    "print('Hello\\nworld') #\\n 转义字符表示换行\n",
    "print('-'*18) #输出 18 个-\n",
    "print(r'Hello\\nworld') #取消转义\n",
    "print('el' in 'Hello') #字符串包含测试"
   ]
  },
  {
   "cell_type": "code",
   "execution_count": null,
   "metadata": {},
   "outputs": [],
   "source": []
  }
 ],
 "metadata": {
  "kernelspec": {
   "display_name": "Python 3",
   "language": "python",
   "name": "python3"
  },
  "language_info": {
   "codemirror_mode": {
    "name": "ipython",
    "version": 3
   },
   "file_extension": ".py",
   "mimetype": "text/x-python",
   "name": "python",
   "nbconvert_exporter": "python",
   "pygments_lexer": "ipython3",
   "version": "3.7.4"
  }
 },
 "nbformat": 4,
 "nbformat_minor": 2
}
