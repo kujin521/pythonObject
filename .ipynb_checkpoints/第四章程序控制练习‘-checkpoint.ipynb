{
 "cells": [
  {
   "cell_type": "code",
   "execution_count": 1,
   "metadata": {
    "collapsed": true,
    "pycharm": {
     "is_executing": false
    }
   },
   "outputs": [
    {
     "name": "stdout",
     "output_type": "stream",
     "text": [
      "终于见到您了！\n"
     ]
    }
   ],
   "source": [
    "a=int(input(\"输入一个数：\"))\n",
    "if a==8088:\n",
    "    print(\"终于见到您了！\")\n"
   ]
  },
  {
   "cell_type": "code",
   "execution_count": 3,
   "metadata": {
    "pycharm": {
     "is_executing": false,
     "name": "#%%\n"
    }
   },
   "outputs": [
    {
     "name": "stdout",
     "output_type": "stream",
     "text": [
      "你是成年人啦！\n"
     ]
    }
   ],
   "source": [
    "age=int(input(\"请输入你的年龄：\"))\n",
    "if age>=18:\n",
    "    print(\"你是成年人啦！\")\n",
    "else:\n",
    "    print(\"你是未成年人\")"
   ]
  },
  {
   "cell_type": "code",
   "execution_count": null,
   "metadata": {
    "pycharm": {
     "name": "#%%\n"
    }
   },
   "outputs": [],
   "source": [
    "# 某火车站行李费的收费标准是：50kg 以内（包括 50kg）为 0.95 元/kg，超过 50kg\n",
    "# 部分为 1.90 元/kg。编写程序，要求根据输入的重量，计算出应付的行李费。\n",
    "# 根据题意计算公式如下：\n",
    "# weight 0.95 weight 50\n",
    "# pay\n",
    "# (weight 50) 1.90 50 0.92 weight 50\n",
    "#         ≤\n",
    "# 分析：输入行李重量后，根据条件 weight >50 进行判断，条件成立时，执行 pay = (weight \n",
    "# −50) * 1.9 + 50 * 0.95；否则，执行 pay = weight * 0.95。分支结构结束时，输出 pay。\n",
    "# 程序代码\n"
   ]
  },
  {
   "cell_type": "markdown",
   "metadata": {
    "pycharm": {
     "name": "#%% md\n"
    }
   },
   "source": [
    "# 4.2 循环结构\n",
    "## 4.2.1 while语句\n",
    "```\n",
    "if 条件 1：\n",
    " 语句块 1\n",
    "elif 条件 2：\n",
    " 语句块 2\n",
    "elif 条件 3：\n",
    " 语句块 3\n",
    "......\n",
    "elif 条件 n：\n",
    " 语句块 n\n",
    "else:\n",
    " 语句块 n+1\n",
    "```"
   ]
  },
  {
   "cell_type": "code",
   "execution_count": 1,
   "metadata": {
    "pycharm": {
     "is_executing": false,
     "name": "#%% \n"
    }
   },
   "outputs": [
    {
     "name": "stdout",
     "output_type": "stream",
     "text": [
      "12345"
     ]
    }
   ],
   "source": [
    "# 打印1到5的自然数\n",
    "x=1\n",
    "while x<=5:\n",
    "    print(x,end='')\n",
    "    x=x+1"
   ]
  },
  {
   "cell_type": "code",
   "execution_count": 2,
   "metadata": {
    "pycharm": {
     "is_executing": false,
     "name": "#%%\n"
    }
   },
   "outputs": [
    {
     "name": "stdout",
     "output_type": "stream",
     "text": [
      "1+2+3+...+100的值是： 5050\n"
     ]
    }
   ],
   "source": [
    "'''\n",
    "计算1+2+3+4+....100的值\n",
    "'''\n",
    "n=1\n",
    "s=0\n",
    "while n<=100:\n",
    "    s=s+n\n",
    "    n=n+1\n",
    "print('1+2+3+...+100的值是：',s)"
   ]
  },
  {
   "cell_type": "code",
   "execution_count": 3,
   "metadata": {
    "pycharm": {
     "is_executing": false,
     "name": "#%%\n"
    }
   },
   "outputs": [
    {
     "name": "stdout",
     "output_type": "stream",
     "text": [
      "24年后，我国人口将达到20.013039亿\n"
     ]
    }
   ],
   "source": [
    "'''\n",
    "假设我国现有人口 14 亿，若年增长率为 1.5%，试计算多少年后我国人口增加\n",
    "到或超过 20 亿。\n",
    "分析：\n",
    "人口计算公式为 p=y(1+r)n，y 为人口初值，r 为年增长率，n 为年数。\n",
    "'''\n",
    "p=14\n",
    "r=0.015\n",
    "n=0\n",
    "while p<20:\n",
    "    p=p*(1+r)\n",
    "    n=n+1\n",
    "print(\"%d年后，我国人口将达到%f亿\"%(n,p))\n"
   ]
  },
  {
   "cell_type": "code",
   "execution_count": 4,
   "metadata": {
    "pycharm": {
     "is_executing": false,
     "name": "#%%\n"
    }
   },
   "outputs": [
    {
     "name": "stdout",
     "output_type": "stream",
     "text": [
      "数字猜字游戏！\n",
      "猜小了\n",
      "恭喜你 猜对了\n"
     ]
    }
   ],
   "source": [
    "'''\n",
    "猜数游戏\n",
    "'''\n",
    "number=7\n",
    "guess=-1\n",
    "print(\"数字猜字游戏！\")\n",
    "while guess!=number:\n",
    "    guess=eval(input(\"请输入你猜的数字\"))\n",
    "    if guess==number:\n",
    "        print(\"恭喜你 猜对了\")\n",
    "    elif guess<number:\n",
    "        print(\"猜小了\")\n",
    "    elif guess>number:\n",
    "        print(\"猜大了\")\n",
    "        "
   ]
  },
  {
   "cell_type": "markdown",
   "metadata": {
    "pycharm": {
     "name": "#%% md\n"
    }
   },
   "source": [
    "## 4.2.2 for语句\n",
    "```\n",
    "for 变量 in 序列：\n",
    "循环体\n",
    "```"
   ]
  },
  {
   "cell_type": "code",
   "execution_count": 7,
   "metadata": {
    "pycharm": {
     "is_executing": false,
     "name": "#%%\n"
    }
   },
   "outputs": [
    {
     "name": "stdout",
     "output_type": "stream",
     "text": [
      "p y t h o n 1 2 4 5 "
     ]
    }
   ],
   "source": [
    "for s in 'python':\n",
    "    print(s,end=' ')\n",
    "\n",
    "for s in [1,2,4,5]:\n",
    "    print(s,end=' ')"
   ]
  },
  {
   "cell_type": "code",
   "execution_count": 9,
   "metadata": {
    "pycharm": {
     "is_executing": false,
     "name": "#%%\n"
    }
   },
   "outputs": [
    {
     "name": "stdout",
     "output_type": "stream",
     "text": [
      "1,3,5,7,9,"
     ]
    }
   ],
   "source": [
    "'''\n",
    "range(start, stop[, step])\n",
    "它返回一个[start, start + step, start + 2 * step, ...,n*step]结构的整数序列，\n",
    "说明： （1）step 默认 1；start 默认 0。 \n",
    "（2）range 函数返回一个左闭右开的序列数。\n",
    "如果 step 是正整数，最后一个元素（start +n * step）小于 stop。\n",
    "如果 step 是负整数，最后一个元素（start + n * step）大于 stop。 \n",
    "（3）step 参数必须是非零整数，否则抛出 VauleError 异常。\n",
    "'''\n",
    "for i in range(1,10,2):\n",
    "    print(i,end=',')"
   ]
  },
  {
   "cell_type": "code",
   "execution_count": 10,
   "metadata": {
    "pycharm": {
     "is_executing": false,
     "name": "#%%\n"
    }
   },
   "outputs": [
    {
     "name": "stdout",
     "output_type": "stream",
     "text": [
      "5,4,3,2,"
     ]
    }
   ],
   "source": [
    "for i in range(5,1,-1):\n",
    "    print(i,end=',')\n"
   ]
  },
  {
   "cell_type": "code",
   "execution_count": 12,
   "metadata": {
    "pycharm": {
     "is_executing": false,
     "name": "#%%\n"
    }
   },
   "outputs": [
    {
     "name": "stdout",
     "output_type": "stream",
     "text": [
      "1+2+3+...+100 的值是：  5050\n"
     ]
    }
   ],
   "source": [
    "# 用 for 循环计算 1+2+3+...+100 的值。\n",
    "s =0\n",
    "for n in range(101):\n",
    " s = s + n\n",
    "print ('1+2+3+...+100 的值是： ',s)"
   ]
  },
  {
   "cell_type": "markdown",
   "metadata": {
    "pycharm": {
     "name": "#%% md\n"
    }
   },
   "source": [
    "### break 语句、continue 语句和 pass 语句\n",
    " \n",
    "    break，结束循环（当前循环体)\n",
    "    continue 语句作用是结束本次循环\n",
    "    pass“占位”。\n",
    "\n"
   ]
  },
  {
   "cell_type": "code",
   "execution_count": 13,
   "metadata": {
    "pycharm": {
     "is_executing": false,
     "name": "#%%\n"
    }
   },
   "outputs": [
    {
     "name": "stdout",
     "output_type": "stream",
     "text": [
      "1000\n",
      "500.0\n",
      "250.0\n",
      "125.0\n",
      "62.5\n",
      "31.25\n",
      "15.625\n",
      "7.8125\n",
      "3.90625\n",
      "1.953125\n",
      "1000\n",
      "500\n",
      "250\n",
      "125\n",
      "62\n",
      "31\n",
      "15\n",
      "7\n",
      "3\n"
     ]
    }
   ],
   "source": [
    "m=1000\n",
    "n=1000\n",
    "while m>1:\n",
    "    print(m)\n",
    "    m=m/2    \n",
    "while n>1:\n",
    "    print(n)\n",
    "    n=n//2\n"
   ]
  },
  {
   "cell_type": "code",
   "execution_count": 6,
   "metadata": {
    "pycharm": {
     "is_executing": false,
     "name": "#%%\n"
    }
   },
   "outputs": [
    {
     "name": "stdout",
     "output_type": "stream",
     "text": [
      "25和15的最大公约数:5，最小公倍数：75.0\n"
     ]
    }
   ],
   "source": [
    "m=25\n",
    "n=15\n",
    "x,y=m,n\n",
    "r=x%y\n",
    "while r!=0:\n",
    "    x=y\n",
    "    y=r\n",
    "    r=x%y\n",
    "gy =y\n",
    "gb =int(m*n/gy)\n",
    "print(\"{0}和{1}的最大公约数:{2}，最小公倍数：{3}\".format(m,n,gy,gb))"
   ]
  },
  {
   "cell_type": "code",
   "execution_count": null,
   "metadata": {},
   "outputs": [],
   "source": []
  }
 ],
 "metadata": {
  "kernelspec": {
   "display_name": "Python 3",
   "language": "python",
   "name": "python3"
  },
  "language_info": {
   "codemirror_mode": {
    "name": "ipython",
    "version": 3
   },
   "file_extension": ".py",
   "mimetype": "text/x-python",
   "name": "python",
   "nbconvert_exporter": "python",
   "pygments_lexer": "ipython3",
   "version": "3.7.4"
  },
  "pycharm": {
   "stem_cell": {
    "cell_type": "raw",
    "metadata": {
     "collapsed": false
    },
    "source": []
   }
  }
 },
 "nbformat": 4,
 "nbformat_minor": 1
}
