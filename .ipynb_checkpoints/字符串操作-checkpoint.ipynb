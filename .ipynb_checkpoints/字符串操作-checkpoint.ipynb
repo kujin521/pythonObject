{
 "cells": [
  {
   "cell_type": "code",
   "execution_count": 12,
   "metadata": {},
   "outputs": [
    {
     "name": "stdout",
     "output_type": "stream",
     "text": [
      "a b c d\n",
      "d c b a\n"
     ]
    }
   ],
   "source": [
    "s='abcd'\n",
    "#字符串下标\n",
    "print(s[0],s[1],s[2],s[3])\n",
    "print(s[-1],s[-2],s[-3],s[-4])"
   ]
  },
  {
   "cell_type": "code",
   "execution_count": 14,
   "metadata": {},
   "outputs": [
    {
     "name": "stdout",
     "output_type": "stream",
     "text": [
      "bc\n",
      "abcd\n",
      "abcde\n",
      "bcd\n",
      "abc\n",
      "cde\n"
     ]
    }
   ],
   "source": [
    "s='abcde'\n",
    "# 截取字符串\n",
    "print(s[1:3])\n",
    "print(s[0:4])\n",
    "print(s[0:5])\n",
    "print(s[1:-1])\n",
    "print(s[:3])\n",
    "print(s[2:])"
   ]
  },
  {
   "cell_type": "code",
   "execution_count": 2,
   "metadata": {},
   "outputs": [
    {
     "name": "stdout",
     "output_type": "stream",
     "text": [
      "5\n"
     ]
    }
   ],
   "source": [
    "x='A\\0B\\0C'\n",
    "\n",
    "print(len(x))"
   ]
  },
  {
   "cell_type": "code",
   "execution_count": 6,
   "metadata": {},
   "outputs": [
    {
     "ename": "SyntaxError",
     "evalue": "invalid syntax (<ipython-input-6-eb1cd40e5ea3>, line 16)",
     "output_type": "error",
     "traceback": [
      "\u001b[1;36m  File \u001b[1;32m\"<ipython-input-6-eb1cd40e5ea3>\"\u001b[1;36m, line \u001b[1;32m16\u001b[0m\n\u001b[1;33m    print({%d+%d-%d*%d=%d}.format(a,b,c,d,s))\t\t\t #去掉【】补充以实现输出a+b-c*d的值，使用format，输出结果例如：10+2-4*5=-8\u001b[0m\n\u001b[1;37m           ^\u001b[0m\n\u001b[1;31mSyntaxError\u001b[0m\u001b[1;31m:\u001b[0m invalid syntax\n"
     ]
    }
   ],
   "source": [
    "#（1）区分/和//\n",
    "print(5/2)     #去掉【】补充以实现5除以2\n",
    "print(5//2)     #去掉【】补充以实现5整除2\n",
    "\n",
    "#（2）理解字符串切片\n",
    "s='abcdefg'\n",
    "print(s[3:4])     #去掉【】补充以实现结果d\n",
    "print(s[3:5])   #去掉【】补充以实现结果de\n",
    "\n",
    "#（3）输入a,b,c,d4个整数，计算a+b-c*d的值\n",
    "a=int(input())    #去掉【】补充以实现输入得到整数a\n",
    "b=int(input())\t #去掉【】补充以实现输入得到整数b\n",
    "c=int(input())\t #去掉【】补充以实现输入得到整数c\n",
    "d=int(input())\t #去掉【】补充以实现输入得到整数d\n",
    "s=a+b-c*d\n",
    "print({%d+%d-%d*%d=%d}.format(a,b,c,d,s))\t\t\t #去掉【】补充以实现输出a+b-c*d的值，使用format，输出结果例如：10+2-4*5=-8"
   ]
  },
  {
   "cell_type": "code",
   "execution_count": null,
   "metadata": {},
   "outputs": [],
   "source": [
    "h,w = eval(input()) # 请输入身高(m)和体重(kg)，英文逗号隔开，\n",
    "print(h/w)\n",
    "#print(\"BMI是{%f}\".format(w/h))   #去掉【】补充代码"
   ]
  },
  {
   "cell_type": "code",
   "execution_count": null,
   "metadata": {},
   "outputs": [],
   "source": []
  }
 ],
 "metadata": {
  "kernelspec": {
   "display_name": "Python 3",
   "language": "python",
   "name": "python3"
  },
  "language_info": {
   "codemirror_mode": {
    "name": "ipython",
    "version": 3
   },
   "file_extension": ".py",
   "mimetype": "text/x-python",
   "name": "python",
   "nbconvert_exporter": "python",
   "pygments_lexer": "ipython3",
   "version": "3.7.4"
  }
 },
 "nbformat": 4,
 "nbformat_minor": 2
}
