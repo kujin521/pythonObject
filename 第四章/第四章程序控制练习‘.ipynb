{
 "cells": [
  {
   "cell_type": "code",
   "execution_count": 1,
   "metadata": {
    "collapsed": true,
    "pycharm": {
     "is_executing": false
    }
   },
   "outputs": [
    {
     "name": "stdout",
     "output_type": "stream",
     "text": [
      "终于见到您了！\n"
     ]
    }
   ],
   "source": [
    "a=int(input(\"输入一个数：\"))\n",
    "if a==8088:\n",
    "    print(\"终于见到您了！\")\n"
   ]
  },
  {
   "cell_type": "code",
   "execution_count": 3,
   "metadata": {
    "pycharm": {
     "is_executing": false,
     "name": "#%%\n"
    }
   },
   "outputs": [
    {
     "name": "stdout",
     "output_type": "stream",
     "text": [
      "你是成年人啦！\n"
     ]
    }
   ],
   "source": [
    "age=int(input(\"请输入你的年龄：\"))\n",
    "if age>=18:\n",
    "    print(\"你是成年人啦！\")\n",
    "else:\n",
    "    print(\"你是未成年人\")"
   ]
  },
  {
   "cell_type": "code",
   "execution_count": null,
   "metadata": {
    "pycharm": {
     "name": "#%%\n"
    }
   },
   "outputs": [],
   "source": [
    "# 某火车站行李费的收费标准是：50kg 以内（包括 50kg）为 0.95 元/kg，超过 50kg\n",
    "# 部分为 1.90 元/kg。编写程序，要求根据输入的重量，计算出应付的行李费。\n",
    "# 根据题意计算公式如下：\n",
    "# weight 0.95 weight 50\n",
    "# pay\n",
    "# (weight 50) 1.90 50 0.92 weight 50\n",
    "#         ≤\n",
    "# 分析：输入行李重量后，根据条件 weight >50 进行判断，条件成立时，执行 pay = (weight \n",
    "# −50) * 1.9 + 50 * 0.95；否则，执行 pay = weight * 0.95。分支结构结束时，输出 pay。\n",
    "# 程序代码\n"
   ]
  },
  {
   "cell_type": "markdown",
   "metadata": {
    "pycharm": {
     "name": "#%% md\n"
    }
   },
   "source": [
    "# 4.2 循环结构\n",
    "## 4.2.1 while语句\n",
    "```\n",
    "if 条件 1：\n",
    " 语句块 1\n",
    "elif 条件 2：\n",
    " 语句块 2\n",
    "elif 条件 3：\n",
    " 语句块 3\n",
    "......\n",
    "elif 条件 n：\n",
    " 语句块 n\n",
    "else:\n",
    " 语句块 n+1\n",
    "```"
   ]
  },
  {
   "cell_type": "code",
   "execution_count": 1,
   "metadata": {
    "pycharm": {
     "is_executing": false,
     "name": "#%% \n"
    }
   },
   "outputs": [
    {
     "name": "stdout",
     "output_type": "stream",
     "text": [
      "12345"
     ]
    }
   ],
   "source": [
    "# 打印1到5的自然数\n",
    "x=1\n",
    "while x<=5:\n",
    "    print(x,end='')\n",
    "    x=x+1"
   ]
  },
  {
   "cell_type": "code",
   "execution_count": 2,
   "metadata": {
    "pycharm": {
     "is_executing": false,
     "name": "#%%\n"
    }
   },
   "outputs": [
    {
     "name": "stdout",
     "output_type": "stream",
     "text": [
      "1+2+3+...+100的值是： 5050\n"
     ]
    }
   ],
   "source": [
    "'''\n",
    "计算1+2+3+4+....100的值\n",
    "'''\n",
    "n=1\n",
    "s=0\n",
    "while n<=100:\n",
    "    s=s+n\n",
    "    n=n+1\n",
    "print('1+2+3+...+100的值是：',s)"
   ]
  },
  {
   "cell_type": "code",
   "execution_count": 3,
   "metadata": {
    "pycharm": {
     "is_executing": false,
     "name": "#%%\n"
    }
   },
   "outputs": [
    {
     "name": "stdout",
     "output_type": "stream",
     "text": [
      "24年后，我国人口将达到20.013039亿\n"
     ]
    }
   ],
   "source": [
    "'''\n",
    "假设我国现有人口 14 亿，若年增长率为 1.5%，试计算多少年后我国人口增加\n",
    "到或超过 20 亿。\n",
    "分析：\n",
    "人口计算公式为 p=y(1+r)n，y 为人口初值，r 为年增长率，n 为年数。\n",
    "'''\n",
    "p=14\n",
    "r=0.015\n",
    "n=0\n",
    "while p<20:\n",
    "    p=p*(1+r)\n",
    "    n=n+1\n",
    "print(\"%d年后，我国人口将达到%f亿\"%(n,p))\n"
   ]
  },
  {
   "cell_type": "code",
   "execution_count": 4,
   "metadata": {
    "pycharm": {
     "is_executing": false,
     "name": "#%%\n"
    }
   },
   "outputs": [
    {
     "name": "stdout",
     "output_type": "stream",
     "text": [
      "数字猜字游戏！\n",
      "猜小了\n",
      "恭喜你 猜对了\n"
     ]
    }
   ],
   "source": [
    "'''\n",
    "猜数游戏\n",
    "'''\n",
    "number=7\n",
    "guess=-1\n",
    "print(\"数字猜字游戏！\")\n",
    "while guess!=number:\n",
    "    guess=eval(input(\"请输入你猜的数字\"))\n",
    "    if guess==number:\n",
    "        print(\"恭喜你 猜对了\")\n",
    "    elif guess<number:\n",
    "        print(\"猜小了\")\n",
    "    elif guess>number:\n",
    "        print(\"猜大了\")\n",
    "        "
   ]
  },
  {
   "cell_type": "markdown",
   "metadata": {
    "pycharm": {
     "name": "#%% md\n"
    }
   },
   "source": [
    "## 4.2.2 for语句\n",
    "```\n",
    "for 变量 in 序列：\n",
    "循环体\n",
    "```"
   ]
  },
  {
   "cell_type": "code",
   "execution_count": 7,
   "metadata": {
    "pycharm": {
     "is_executing": false,
     "name": "#%%\n"
    }
   },
   "outputs": [
    {
     "name": "stdout",
     "output_type": "stream",
     "text": [
      "p y t h o n 1 2 4 5 "
     ]
    }
   ],
   "source": [
    "for s in 'python':\n",
    "    print(s,end=' ')\n",
    "\n",
    "for s in [1,2,4,5]:\n",
    "    print(s,end=' ')"
   ]
  },
  {
   "cell_type": "code",
   "execution_count": 9,
   "metadata": {
    "pycharm": {
     "is_executing": false,
     "name": "#%%\n"
    }
   },
   "outputs": [
    {
     "name": "stdout",
     "output_type": "stream",
     "text": [
      "1,3,5,7,9,"
     ]
    }
   ],
   "source": [
    "'''\n",
    "range(start, stop[, step])\n",
    "它返回一个[start, start + step, start + 2 * step, ...,n*step]结构的整数序列，\n",
    "说明： （1）step 默认 1；start 默认 0。 \n",
    "（2）range 函数返回一个左闭右开的序列数。\n",
    "如果 step 是正整数，最后一个元素（start +n * step）小于 stop。\n",
    "如果 step 是负整数，最后一个元素（start + n * step）大于 stop。 \n",
    "（3）step 参数必须是非零整数，否则抛出 VauleError 异常。\n",
    "'''\n",
    "for i in range(1,10,2):\n",
    "    print(i,end=',')"
   ]
  },
  {
   "cell_type": "code",
   "execution_count": 10,
   "metadata": {
    "pycharm": {
     "is_executing": false,
     "name": "#%%\n"
    }
   },
   "outputs": [
    {
     "name": "stdout",
     "output_type": "stream",
     "text": [
      "5,4,3,2,"
     ]
    }
   ],
   "source": [
    "for i in range(5,1,-1):\n",
    "    print(i,end=',')\n"
   ]
  },
  {
   "cell_type": "code",
   "execution_count": 12,
   "metadata": {
    "pycharm": {
     "is_executing": false,
     "name": "#%%\n"
    }
   },
   "outputs": [
    {
     "name": "stdout",
     "output_type": "stream",
     "text": [
      "1+2+3+...+100 的值是：  5050\n"
     ]
    }
   ],
   "source": [
    "# 用 for 循环计算 1+2+3+...+100 的值。\n",
    "s =0\n",
    "for n in range(101):\n",
    " s = s + n\n",
    "print ('1+2+3+...+100 的值是： ',s)"
   ]
  },
  {
   "cell_type": "markdown",
   "metadata": {
    "pycharm": {
     "name": "#%% md\n"
    }
   },
   "source": [
    "### break 语句、continue 语句和 pass 语句\n",
    " \n",
    "    break，结束循环（当前循环体)\n",
    "    continue 语句作用是结束本次循环\n",
    "    pass“占位”。\n",
    "\n"
   ]
  },
  {
   "cell_type": "code",
   "execution_count": 13,
   "metadata": {
    "pycharm": {
     "is_executing": false,
     "name": "#%%\n"
    }
   },
   "outputs": [
    {
     "name": "stdout",
     "output_type": "stream",
     "text": [
      "1000\n",
      "500.0\n",
      "250.0\n",
      "125.0\n",
      "62.5\n",
      "31.25\n",
      "15.625\n",
      "7.8125\n",
      "3.90625\n",
      "1.953125\n",
      "1000\n",
      "500\n",
      "250\n",
      "125\n",
      "62\n",
      "31\n",
      "15\n",
      "7\n",
      "3\n"
     ]
    }
   ],
   "source": [
    "m=1000\n",
    "n=1000\n",
    "while m>1:\n",
    "    print(m)\n",
    "    m=m/2    \n",
    "while n>1:\n",
    "    print(n)\n",
    "    n=n//2\n"
   ]
  },
  {
   "cell_type": "code",
   "execution_count": 6,
   "metadata": {
    "pycharm": {
     "is_executing": false,
     "name": "#%%\n"
    }
   },
   "outputs": [
    {
     "name": "stdout",
     "output_type": "stream",
     "text": [
      "25和15的最大公约数:5，最小公倍数：75.0\n"
     ]
    }
   ],
   "source": [
    "'''\n",
    "求最小公约数与最小公倍数\n",
    "'''\n",
    "m=25\n",
    "n=15\n",
    "x,y=m,n\n",
    "r=x%y\n",
    "while r!=0:\n",
    "    x=y\n",
    "    y=r\n",
    "    r=x%y\n",
    "gy =y\n",
    "gb =int(m*n/gy)\n",
    "print(\"{0}和{1}的最大公约数:{2}，最小公倍数：{3}\".format(m,n,gy,gb))"
   ]
  },
  {
   "cell_type": "code",
   "execution_count": 3,
   "outputs": [
    {
     "name": "stdout",
     "text": [
      "6是一个完全数\n",
      "28是一个完全数\n",
      "496是一个完全数\n",
      "8128是一个完全数\n"
     ],
     "output_type": "stream"
    }
   ],
   "source": [
    "# 要求：\n",
    "# 1.求出10000以内的所有完全数\n",
    "# 2.将下面程序中的【】补上合适的代码，使得程序可以正确求出10000以内的全部完全数\n",
    "# 3.补全程序后，一定要将【】删除，否则程序无法运行\n",
    "\n",
    "###################### 程序开始 ######################\n",
    "\n",
    "n = 1         # 设变量n表示当前要判断的正整数，初值为1\n",
    "\n",
    "############ 补全下面的while循环嵌套的代码 ###########\n",
    "\n",
    "while n <= 10000:\n",
    "    i = 1     # 变量i是内循环控制n变量，用来遍历n中的所有因子\n",
    "    sum = 0  # 变量sum是用来将ni中的所有真因子累加求和\n",
    "    while i<n: # 该层while循环用来求当前n值的全部真因子之和\n",
    "        if n%i==0:\n",
    "            sum = sum + i\n",
    "        i = i +1\n",
    "    if n ==sum:  # 判断当前n的值是否为完全数\n",
    "        print(\"%d是一个完全数\"%(n))\n",
    "    n =n+1      # 变量n变为下一个要考察的正整数\n",
    "\n",
    "###################### 程序结束 ######################"
   ],
   "metadata": {
    "collapsed": false,
    "pycharm": {
     "name": "#%%\n",
     "is_executing": false
    }
   }
  },
  {
   "cell_type": "code",
   "execution_count": 1,
   "outputs": [
    {
     "name": "stdout",
     "text": [
      "0\n",
      "1\n",
      "2\n",
      "3\n",
      "4\n"
     ],
     "output_type": "stream"
    }
   ],
   "source": [
    "for i in range(5):\n",
    "    print(i)"
   ],
   "metadata": {
    "collapsed": false,
    "pycharm": {
     "name": "#%%\n",
     "is_executing": false
    }
   }
  },
  {
   "cell_type": "code",
   "execution_count": 2,
   "metadata": {
    "pycharm": {
     "is_executing": false
    }
   },
   "outputs": [
    {
     "name": "stdout",
     "text": [
      "    *    \n",
      "   ***   \n",
      "  *****  \n",
      " ******* \n",
      "*********\n"
     ],
     "output_type": "stream"
    }
   ],
   "source": [
    "for i in range(1, 10, 2):\n",
    "    s = \"*\" * i\n",
    "    print(s.center(9, ' ')) # 利用str.center方法居中"
   ]
  },
  {
   "cell_type": "code",
   "execution_count": 6,
   "outputs": [
    {
     "name": "stdout",
     "text": [
      "1\n"
     ],
     "output_type": "stream"
    }
   ],
   "source": [
    "result = 1                          #阶乘公式：n!=1×2×3×...×n\n",
    "n =int(input())                #从测试集中获取数据并转换成int型赋值给变量n\n",
    "for i in range(n,-1):           #确定range函数的start参数及stop参数，step默认为1\n",
    "    print(i)                #类似于上一关卡的累计求和，此处为累乘\n",
    "\n",
    "print(result)     "
   ],
   "metadata": {
    "collapsed": false,
    "pycharm": {
     "name": "#%%\n",
     "is_executing": false
    }
   }
  },
  {
   "cell_type": "code",
   "execution_count": 7,
   "outputs": [
    {
     "name": "stdout",
     "text": [
      "      *      \n",
      "     * *     \n",
      "    *   *    \n",
      "   *     *   \n",
      "  *       *  \n",
      " *         * \n",
      "*           *\n",
      " *         * \n",
      "  *       *  \n",
      "   *     *   \n",
      "    *   *    \n",
      "     * *     \n",
      "      *      \n"
     ],
     "output_type": "stream"
    }
   ],
   "source": [
    "for i in range(-6, 7):\n",
    "    for j in range(-6, 7):\n",
    "        if abs(i) + abs(j) == 6:\n",
    "            print('*', end='')\n",
    "        else:\n",
    "            print(' ', end='')\n",
    "    print()"
   ],
   "metadata": {
    "collapsed": false,
    "pycharm": {
     "name": "#%%\n",
     "is_executing": false
    }
   }
  },
  {
   "cell_type": "code",
   "execution_count": 9,
   "outputs": [
    {
     "name": "stdout",
     "text": [
      "2550\n"
     ],
     "output_type": "stream"
    }
   ],
   "source": [
    "s=0\n",
    "for i in range(2,102,2):\n",
    "    s+=i\n",
    "print(s)    "
   ],
   "metadata": {
    "collapsed": false,
    "pycharm": {
     "name": "#%%\n",
     "is_executing": false
    }
   }
  },
  {
   "cell_type": "code",
   "execution_count": 12,
   "outputs": [
    {
     "name": "stdout",
     "text": [
      "22\n"
     ],
     "output_type": "stream"
    }
   ],
   "source": [
    "s='abca*a*adef.a*b*c'\n",
    "for c in s:\n",
    "    if c=='*':\n",
    "        \n",
    "    n+=1\n",
    "print(n)\n"
   ],
   "metadata": {
    "collapsed": false,
    "pycharm": {
     "name": "#%%\n",
     "is_executing": false
    }
   }
  },
  {
   "cell_type": "code",
   "execution_count": 27,
   "outputs": [
    {
     "traceback": [
      "\u001b[1;31m---------------------------------------------------------------------------\u001b[0m",
      "\u001b[1;31mTypeError\u001b[0m                                 Traceback (most recent call last)",
      "\u001b[1;32m<ipython-input-27-457681ed94d2>\u001b[0m in \u001b[0;36m<module>\u001b[1;34m\u001b[0m\n\u001b[0;32m      1\u001b[0m \u001b[1;32mfor\u001b[0m \u001b[0mi\u001b[0m \u001b[1;32min\u001b[0m \u001b[0mrange\u001b[0m\u001b[1;33m(\u001b[0m\u001b[1;36m1\u001b[0m\u001b[1;33m,\u001b[0m\u001b[1;36m10\u001b[0m\u001b[1;33m)\u001b[0m\u001b[1;33m:\u001b[0m\u001b[1;33m\u001b[0m\u001b[1;33m\u001b[0m\u001b[0m\n\u001b[0;32m      2\u001b[0m     \u001b[1;32mfor\u001b[0m \u001b[0mj\u001b[0m \u001b[1;32min\u001b[0m \u001b[0mrange\u001b[0m\u001b[1;33m(\u001b[0m\u001b[1;36m1\u001b[0m\u001b[1;33m,\u001b[0m\u001b[0mi\u001b[0m\u001b[1;33m+\u001b[0m\u001b[1;36m1\u001b[0m\u001b[1;33m)\u001b[0m\u001b[1;33m:\u001b[0m\u001b[1;33m\u001b[0m\u001b[1;33m\u001b[0m\u001b[0m\n\u001b[1;32m----> 3\u001b[1;33m         \u001b[0ms\u001b[0m\u001b[1;33m+=\u001b[0m\u001b[1;33m(\u001b[0m\u001b[0mi\u001b[0m\u001b[1;33m*\u001b[0m\u001b[0mj\u001b[0m\u001b[1;33m)\u001b[0m\u001b[1;33m\u001b[0m\u001b[1;33m\u001b[0m\u001b[0m\n\u001b[0m\u001b[0;32m      4\u001b[0m     \u001b[0mprint\u001b[0m\u001b[1;33m(\u001b[0m\u001b[0ms\u001b[0m\u001b[1;33m,\u001b[0m\u001b[0msep\u001b[0m\u001b[1;33m=\u001b[0m\u001b[1;34m','\u001b[0m\u001b[1;33m)\u001b[0m\u001b[1;33m\u001b[0m\u001b[1;33m\u001b[0m\u001b[0m\n\u001b[0;32m      5\u001b[0m \u001b[1;33m\u001b[0m\u001b[0m\n",
      "\u001b[1;31mTypeError\u001b[0m: can only concatenate str (not \"int\") to str"
     ],
     "ename": "TypeError",
     "evalue": "can only concatenate str (not \"int\") to str",
     "output_type": "error"
    }
   ],
   "source": [
    "for i in range(1,10):\n",
    "    for j in range(1,i+1):\n",
    "        s+=(i*j)\n",
    "    print(s,sep=',')"
   ],
   "metadata": {
    "collapsed": false,
    "pycharm": {
     "name": "#%%\n",
     "is_executing": false
    }
   }
  },
  {
   "cell_type": "code",
   "execution_count": 2,
   "outputs": [
    {
     "name": "stdout",
     "text": [
      "<<九九乘法表>>\n",
      " 1,\n",
      " 2, 4,\n",
      " 3, 6, 9,\n",
      " 4, 8,12,16,\n",
      " 5,10,15,20,25,\n",
      " 6,12,18,24,30,36,\n",
      " 7,14,21,28,35,42,49,\n",
      " 8,16,24,32,40,48,56,64,\n",
      " 9,18,27,36,45,54,63,72,81,\n"
     ],
     "output_type": "stream"
    }
   ],
   "source": [
    "print(\"<<九九乘法表>>\")\n",
    "for i in range(1,10):\n",
    "    for x in range(1,i+1):\n",
    "        print( '%2d' % (i*x) ,end = ',' )\n",
    "    print('')\n"
   ],
   "metadata": {
    "collapsed": false,
    "pycharm": {
     "name": "#%%\n",
     "is_executing": false
    }
   }
  }
 ],
 "metadata": {
  "kernelspec": {
   "name": "pycharm-a03f9019",
   "language": "python",
   "display_name": "PyCharm (pythonObject)"
  },
  "language_info": {
   "codemirror_mode": {
    "name": "ipython",
    "version": 3
   },
   "file_extension": ".py",
   "mimetype": "text/x-python",
   "name": "python",
   "nbconvert_exporter": "python",
   "pygments_lexer": "ipython3",
   "version": "3.7.4"
  },
  "pycharm": {
   "stem_cell": {
    "cell_type": "raw",
    "source": [],
    "metadata": {
     "collapsed": false
    }
   }
  }
 },
 "nbformat": 4,
 "nbformat_minor": 1
}