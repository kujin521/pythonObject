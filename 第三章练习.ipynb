{
 "cells": [
  {
   "cell_type": "markdown",
   "metadata": {},
   "source": [
    "# 【3.1 】print()函数\n",
    "\n",
    "    格式：print(value,...,sep='',end='\\n')\n",
    "    参数：\n",
    "        value:需要输出的值，可以是多个用\",\"分开\n",
    "        sep:多个值之间的间隔，默认为一个空格\n",
    "        end:输出语句结束附加的字符串，默认为换行（'\\n'）"
   ]
  },
  {
   "cell_type": "code",
   "execution_count": 1,
   "metadata": {
    "scrolled": true,
    "pycharm": {
     "is_executing": false
    }
   },
   "outputs": [
    {
     "name": "stdout",
     "text": [
      "欢迎使用print函数\n",
      "你好！1\n",
      "1+1 2\n"
     ],
     "output_type": "stream"
    }
   ],
   "source": [
    "print('欢迎使用print函数') #输出语句\n",
    "name=input('请输入您的姓名：') #键盘输入\n",
    "print('你好！'+name)\n",
    "print('1+1',1+1)"
   ]
  },
  {
   "cell_type": "code",
   "execution_count": 2,
   "metadata": {
    "pycharm": {
     "is_executing": false
    }
   },
   "outputs": [
    {
     "name": "stdout",
     "text": [
      "1!2!3$$$$$4\n",
      "5 6 7\n"
     ],
     "output_type": "stream"
    }
   ],
   "source": [
    "print(1,2,3,sep='!',end='$$$$$')\n",
    "print(4)\n",
    "print(5,6,7)"
   ]
  },
  {
   "cell_type": "markdown",
   "metadata": {},
   "source": [
    "# 【3.2】格式化输出\n",
    "    %c 格式化字符及ASCII码\n",
    "    %s 字符串  \n",
    "    %d 整数\n",
    "    %f 浮点数字 可指定小数点后的精度\n",
    "    %e 用科学计数法格式化浮点数\n",
    "    \n",
    "    %E 和%e作用相同\n",
    "    %  %f和%e的简写\n",
    "    %G %f和%E的简写\n",
    "    %p 用十六进制数格式化变量的地址\n",
    "    \n",
    "    %u 无符号整型\n",
    "    %o 无符号八进制\n",
    "    %x 无符号十六进制\n",
    "    %X 无符号十六进制大写\n",
    "    "
   ]
  },
  {
   "cell_type": "code",
   "execution_count": 3,
   "metadata": {
    "pycharm": {
     "is_executing": false
    }
   },
   "outputs": [
    {
     "name": "stdout",
     "text": [
      "我叫库金 今年10岁！\n"
     ],
     "output_type": "stream"
    }
   ],
   "source": [
    "print(\"我叫%s 今年%d岁！\" %('库金',10))"
   ]
  },
  {
   "cell_type": "code",
   "execution_count": 4,
   "metadata": {
    "pycharm": {
     "is_executing": false
    }
   },
   "outputs": [
    {
     "traceback": [
      "\u001b[1;36m  File \u001b[1;32m\"<ipython-input-4-8083b8099369>\"\u001b[1;36m, line \u001b[1;32m1\u001b[0m\n\u001b[1;33m    print('%f',%(35/45))\u001b[0m\n\u001b[1;37m               ^\u001b[0m\n\u001b[1;31mSyntaxError\u001b[0m\u001b[1;31m:\u001b[0m invalid syntax\n"
     ],
     "ename": "SyntaxError",
     "evalue": "invalid syntax (<ipython-input-4-8083b8099369>, line 1)",
     "output_type": "error"
    }
   ],
   "source": [
    "print('%f',%(35/45))"
   ]
  },
  {
   "cell_type": "markdown",
   "metadata": {
    "pycharm": {
     "name": "#%% md\n"
    }
   },
   "source": [
    "# 【例 3.12】字符串切片示例。"
   ]
  },
  {
   "cell_type": "code",
   "execution_count": null,
   "metadata": {
    "pycharm": {
     "name": "#%%\n",
     "is_executing": false
    }
   },
   "outputs": [],
   "source": [
    "letter=\"0123445556adv\"\n",
    "print(letter[::-1])  #从末尾向开头方向提取，每次间隔一个字符。\n",
    "print(letter[::-3])  #从末尾向开头方向提取，每次间隔三个字符。\n",
    "print(letter[10:2:-3])\n",
    "print(letter[-2:2:-3])\n"
   ]
  },
  {
   "cell_type": "markdown",
   "metadata": {},
   "source": [
    "【例 3.13】字符串运算符示例"
   ]
  },
  {
   "cell_type": "code",
   "execution_count": null,
   "metadata": {
    "pycharm": {
     "is_executing": false
    },
    "scrolled": true
   },
   "outputs": [],
   "source": [
    "print('123'+'abc') #字符串连接\n",
    "print('Hello\\nworld') #\\n 转义字符表示换行\n",
    "print('-'*18) #输出 18 个-\n",
    "print(r'Hello\\nworld') #取消转义\n",
    "print('el' in 'Hello') #字符串包含测试"
   ]
  },
  {
   "cell_type": "code",
   "execution_count": null,
   "metadata": {
    "pycharm": {
     "is_executing": false
    }
   },
   "outputs": [],
   "source": []
  },
  {
   "cell_type": "code",
   "execution_count": null,
   "metadata": {
    "pycharm": {
     "is_executing": false
    }
   },
   "outputs": [],
   "source": []
  },
  {
   "cell_type": "raw",
   "metadata": {},
   "source": [
    "表 3.14 常用的字符串运算符\n",
    "操作符 描述\n",
    "    + 字符串连接\n",
    "    * 重复输出字符串\n",
    "    [] 通过索引获取字符串中字符\n",
    "    [ : ] 截取字符串中的一部分\n",
    "    in 成员运算符，如果字符串中包含给定的字符返回 True\n",
    "    not in 成员运算符，如果字符串中不包含给定的字符返回 True\n",
    "    r/R 如果不想让反斜杠转义，可以在字符串的第一个引号前加上字母 r（可以大小写），表示原始字符串\n",
    "     % 格式化字符串"
   ]
  },
  {
   "cell_type": "markdown",
   "metadata": {},
   "source": [
    "# 【例 3.13】字符串运算符示例。"
   ]
  },
  {
   "cell_type": "code",
   "execution_count": null,
   "metadata": {
    "pycharm": {
     "is_executing": false,
     "name": "#%%\n"
    }
   },
   "outputs": [],
   "source": [
    "print('123'+'abc') #字符串连接\n",
    "print('Hello\\nworld') #\\n 转义字符表示换行\n",
    "print('-'*18) #输出 18 个-\n",
    "print(r'Hello\\nworld') #取消转义\n",
    "print('el' in 'Hello') #字符串包含测试\n"
   ]
  },
  {
   "cell_type": "markdown",
   "metadata": {
    "pycharm": {
     "name": "#%% md\n"
    }
   },
   "source": [
    "# python内置函数\n",
    "<table>\n",
    "    <tr>\n",
    "        <td>abs(x)</td>\n",
    "        <td>求绝对值</td>\n",
    "    </tr>\n",
    "    <tr>\n",
    "        <td>complex([real[, imag]])</td>\n",
    "        <td>创建一个复数</td>\n",
    "    </tr>\n",
    "    <tr>\n",
    "        <td>divmod(a, b)</td>\n",
    "        <td>分别取商和余数。注意：整型、浮点型都可以</td>\n",
    "    </tr>\n",
    "    <tr>\n",
    "        <td>float([x])</td>\n",
    "        <td>将一个字符串或数转换为浮点数。如果无参数将返回 0.0</td>\n",
    "    </tr>\n",
    "    <tr>\n",
    "        <td>int([x[, base]])</td>\n",
    "        <td>将一个字符转换为 int 类型，base 表示进制</td>\n",
    "    </tr>\n",
    "    <tr>\n",
    "        <td>pow(x, y[, z])</td>\n",
    "        <td>返回 x 的 y 次幂</td>\n",
    "    </tr>\n",
    "    <tr>\n",
    "        <td>range([start], stop[, step])</td>\n",
    "        <td>产生一个序列，默认从 0 开始</td>\n",
    "    </tr>\n",
    "    <tr>\n",
    "        <td>round(x[, n])</td>\n",
    "        <td>对 x 的第 n+1 位四舍五入</td>\n",
    "    </tr>\n",
    "    <tr>\n",
    "        <td>sum(iterable[, start])</td>\n",
    "        <td>对集合求和</td>\n",
    "    </tr>\n",
    "    <tr>\n",
    "        <td>oct(x)</td>\n",
    "        <td>将一个数字转化为 8 进制</td>\n",
    "    </tr>\n",
    "    <tr>\n",
    "        <td>hex(x)</td>\n",
    "        <td>将整数 x 转换为 16 进制字符串</td>\n",
    "    </tr>\n",
    "    <tr>\n",
    "        <td>chr(i)</td>\n",
    "        <td>返回整数 i 对应的 ASCII 字符</td>\n",
    "    </tr>\n",
    "    <tr>\n",
    "        <td>bin(x)</td>\n",
    "        <td>将整数 x 转换为二进制字符串</td>\n",
    "    </tr>\n",
    "    <tr>\n",
    "        <td>bool([x])</td>\n",
    "        <td>将 x 转换为 Boolean 类型</td>\n",
    "    </tr>\n",
    "</table>"
   ]
  },
  {
   "cell_type": "markdown",
   "metadata": {
    "pycharm": {
     "name": "#%% md\n"
    }
   },
   "source": [
    "# 【例 3.14】数学运算函数示例。"
   ]
  },
  {
   "cell_type": "code",
   "execution_count": null,
   "metadata": {
    "pycharm": {
     "name": "#%%\n",
     "is_executing": false
    }
   },
   "outputs": [],
   "source": [
    "print(abs(-2)) #求数值的绝对值\n",
    "print(divmod(5.5,2)) #返回两个数值的商和余数\n",
    "print(max(1,6,3) ) #取 3 个中较大者\n",
    "print(min(7,2,3)) #取 3 个中较小者\n",
    "print(pow(2,3)) #返回两个数值的幂运算值\n",
    "print(round(65.32451,3)) #对浮点数进行四舍五入求值\n",
    "print(sum([1,2,3])) #求和\n"
   ]
  },
  {
   "cell_type": "code",
   "execution_count": null,
   "metadata": {
    "pycharm": {
     "name": "#%%\n",
     "is_executing": false
    }
   },
   "outputs": [],
   "source": []
  },
  {
   "cell_type": "code",
   "execution_count": null,
   "metadata": {
    "pycharm": {
     "name": "#%%\n",
     "is_executing": false
    }
   },
   "outputs": [],
   "source": []
  },
  {
   "cell_type": "raw",
   "metadata": {},
   "source": [
    "表 3.14 常用的字符串运算符\n",
    "操作符 描述\n",
    "    + 字符串连接\n",
    "    * 重复输出字符串\n",
    "    [] 通过索引获取字符串中字符\n",
    "    [ : ] 截取字符串中的一部分\n",
    "    in 成员运算符，如果字符串中包含给定的字符返回 True\n",
    "    not in 成员运算符，如果字符串中不包含给定的字符返回 True\n",
    "    r/R 如果不想让反斜杠转义，可以在字符串的第一个引号前加上字母 r（可以大小写），表示原始字符串\n",
    "     % 格式化字符串"
   ]
  },
  {
   "cell_type": "markdown",
   "metadata": {},
   "source": [
    "# 【例 3.13】字符串运算符示例。"
   ]
  },
  {
   "cell_type": "code",
   "execution_count": null,
   "metadata": {
    "pycharm": {
     "is_executing": false
    }
   },
   "outputs": [],
   "source": []
  },
  {
   "cell_type": "code",
   "execution_count": null,
   "metadata": {
    "pycharm": {
     "is_executing": false
    }
   },
   "outputs": [],
   "source": []
  },
  {
   "cell_type": "code",
   "execution_count": null,
   "metadata": {
    "pycharm": {
     "is_executing": false
    }
   },
   "outputs": [],
   "source": []
  },
  {
   "cell_type": "code",
   "execution_count": null,
   "metadata": {
    "pycharm": {
     "is_executing": false
    }
   },
   "outputs": [],
   "source": []
  },
  {
   "cell_type": "code",
   "execution_count": null,
   "metadata": {
    "pycharm": {
     "is_executing": false
    }
   },
   "outputs": [],
   "source": []
  }
 ],
 "metadata": {
  "kernelspec": {
   "display_name": "Python 3",
   "language": "python",
   "name": "python3"
  },
  "language_info": {
   "codemirror_mode": {
    "name": "ipython",
    "version": 3
   },
   "file_extension": ".py",
   "mimetype": "text/x-python",
   "name": "python",
   "nbconvert_exporter": "python",
   "pygments_lexer": "ipython3",
   "version": "3.7.4"
  },
  "pycharm": {
   "stem_cell": {
    "cell_type": "raw",
    "metadata": {
     "collapsed": false
    },
    "source": []
   }
  }
 },
 "nbformat": 4,
 "nbformat_minor": 2
}